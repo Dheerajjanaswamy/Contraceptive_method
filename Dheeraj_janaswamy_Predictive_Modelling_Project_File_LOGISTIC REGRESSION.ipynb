{
 "cells": [
  {
   "cell_type": "markdown",
   "id": "9a99fe35",
   "metadata": {},
   "source": [
    "# Problem 2 LOGISTIC REGRESSION"
   ]
  },
  {
   "cell_type": "markdown",
   "id": "9bdaf0c8",
   "metadata": {},
   "source": [
    "You are a statistician at the Republic of Indonesia Ministry of Health and you are provided with a data of 1473 females collected from a Contraceptive Prevalence Survey. The samples are married women who were either not pregnant or do not know if they were at the time of the survey.\n",
    "\n",
    "The problem is to predict do/don't they use a contraceptive method of choice based on their demographic and socio-economic characteristics.\n",
    "\n",
    "Dataset for Problem : Contraceptive_method_dataset.xlsx\n",
    "\n",
    "Data Dictionary:\n",
    "\n",
    "Wife's age (numerical)\n",
    "\n",
    "Wife's education (categorical) 1=uneducated, 2, 3, 4=tertiary\n",
    "\n",
    "Husband's education (categorical) 1=uneducated, 2, 3, 4=tertiary\n",
    "\n",
    "Number of children ever born (numerical)\n",
    "\n",
    "Wife's religion (binary) Non-Scientology, Scientology\n",
    "\n",
    "Wife's now working? (binary) Yes, No\n",
    "\n",
    "Husband's occupation (categorical) 1, 2, 3, 4(random)\n",
    "\n",
    "Standard-of-living index (categorical) 1=verlow, 2, 3, 4=high\n",
    "\n",
    "Media exposure (binary) Good, Not good\n",
    "\n",
    "Contraceptive method used (class attribute) No,Yes"
   ]
  },
  {
   "cell_type": "code",
   "execution_count": 74,
   "id": "d36dd12d",
   "metadata": {},
   "outputs": [],
   "source": [
    "import numpy as np   \n",
    "import pandas as pd    \n",
    "import seaborn as sns\n",
    "import matplotlib.pyplot as plt \n",
    "import warnings\n",
    "warnings.filterwarnings('ignore')"
   ]
  },
  {
   "cell_type": "markdown",
   "id": "34ca0abb",
   "metadata": {},
   "source": [
    "# 2.1 Data Ingestion: Read the dataset. Do the descriptive statistics and do null value condition check, check for duplicates and outliers and write an inference on it. Perform Univariate and Bivariate Analysis and Multivariate Analysis."
   ]
  },
  {
   "cell_type": "code",
   "execution_count": 75,
   "id": "7f490ca1",
   "metadata": {},
   "outputs": [
    {
     "data": {
      "text/html": [
       "<div>\n",
       "<style scoped>\n",
       "    .dataframe tbody tr th:only-of-type {\n",
       "        vertical-align: middle;\n",
       "    }\n",
       "\n",
       "    .dataframe tbody tr th {\n",
       "        vertical-align: top;\n",
       "    }\n",
       "\n",
       "    .dataframe thead th {\n",
       "        text-align: right;\n",
       "    }\n",
       "</style>\n",
       "<table border=\"1\" class=\"dataframe\">\n",
       "  <thead>\n",
       "    <tr style=\"text-align: right;\">\n",
       "      <th></th>\n",
       "      <th>Wife_age</th>\n",
       "      <th>Wife_ education</th>\n",
       "      <th>Husband_education</th>\n",
       "      <th>No_of_children_born</th>\n",
       "      <th>Wife_religion</th>\n",
       "      <th>Wife_Working</th>\n",
       "      <th>Husband_Occupation</th>\n",
       "      <th>Standard_of_living_index</th>\n",
       "      <th>Media_exposure</th>\n",
       "      <th>Contraceptive_method_used</th>\n",
       "    </tr>\n",
       "  </thead>\n",
       "  <tbody>\n",
       "    <tr>\n",
       "      <th>0</th>\n",
       "      <td>24.0</td>\n",
       "      <td>Primary</td>\n",
       "      <td>Secondary</td>\n",
       "      <td>3.0</td>\n",
       "      <td>Scientology</td>\n",
       "      <td>No</td>\n",
       "      <td>2</td>\n",
       "      <td>High</td>\n",
       "      <td>Exposed</td>\n",
       "      <td>No</td>\n",
       "    </tr>\n",
       "    <tr>\n",
       "      <th>1</th>\n",
       "      <td>45.0</td>\n",
       "      <td>Uneducated</td>\n",
       "      <td>Secondary</td>\n",
       "      <td>10.0</td>\n",
       "      <td>Scientology</td>\n",
       "      <td>No</td>\n",
       "      <td>3</td>\n",
       "      <td>Very High</td>\n",
       "      <td>Exposed</td>\n",
       "      <td>No</td>\n",
       "    </tr>\n",
       "    <tr>\n",
       "      <th>2</th>\n",
       "      <td>43.0</td>\n",
       "      <td>Primary</td>\n",
       "      <td>Secondary</td>\n",
       "      <td>7.0</td>\n",
       "      <td>Scientology</td>\n",
       "      <td>No</td>\n",
       "      <td>3</td>\n",
       "      <td>Very High</td>\n",
       "      <td>Exposed</td>\n",
       "      <td>No</td>\n",
       "    </tr>\n",
       "    <tr>\n",
       "      <th>3</th>\n",
       "      <td>42.0</td>\n",
       "      <td>Secondary</td>\n",
       "      <td>Primary</td>\n",
       "      <td>9.0</td>\n",
       "      <td>Scientology</td>\n",
       "      <td>No</td>\n",
       "      <td>3</td>\n",
       "      <td>High</td>\n",
       "      <td>Exposed</td>\n",
       "      <td>No</td>\n",
       "    </tr>\n",
       "    <tr>\n",
       "      <th>4</th>\n",
       "      <td>36.0</td>\n",
       "      <td>Secondary</td>\n",
       "      <td>Secondary</td>\n",
       "      <td>8.0</td>\n",
       "      <td>Scientology</td>\n",
       "      <td>No</td>\n",
       "      <td>3</td>\n",
       "      <td>Low</td>\n",
       "      <td>Exposed</td>\n",
       "      <td>No</td>\n",
       "    </tr>\n",
       "  </tbody>\n",
       "</table>\n",
       "</div>"
      ],
      "text/plain": [
       "   Wife_age Wife_ education Husband_education  No_of_children_born  \\\n",
       "0      24.0         Primary         Secondary                  3.0   \n",
       "1      45.0      Uneducated         Secondary                 10.0   \n",
       "2      43.0         Primary         Secondary                  7.0   \n",
       "3      42.0       Secondary           Primary                  9.0   \n",
       "4      36.0       Secondary         Secondary                  8.0   \n",
       "\n",
       "  Wife_religion Wife_Working  Husband_Occupation Standard_of_living_index  \\\n",
       "0   Scientology           No                   2                     High   \n",
       "1   Scientology           No                   3                Very High   \n",
       "2   Scientology           No                   3                Very High   \n",
       "3   Scientology           No                   3                     High   \n",
       "4   Scientology           No                   3                      Low   \n",
       "\n",
       "  Media_exposure  Contraceptive_method_used  \n",
       "0         Exposed                        No  \n",
       "1         Exposed                        No  \n",
       "2         Exposed                        No  \n",
       "3         Exposed                        No  \n",
       "4         Exposed                        No  "
      ]
     },
     "execution_count": 75,
     "metadata": {},
     "output_type": "execute_result"
    }
   ],
   "source": [
    "data2=pd.read_excel('C:\\\\Users\\\\baba\\\\Downloads\\\\edge downloads\\\\predictive modelling\\\\Contraceptive_method_dataset.xlsx')\n",
    "data2.head()"
   ]
  },
  {
   "cell_type": "code",
   "execution_count": 76,
   "id": "e4270060",
   "metadata": {},
   "outputs": [
    {
     "name": "stdout",
     "output_type": "stream",
     "text": [
      "<class 'pandas.core.frame.DataFrame'>\n",
      "RangeIndex: 1473 entries, 0 to 1472\n",
      "Data columns (total 10 columns):\n",
      " #   Column                     Non-Null Count  Dtype  \n",
      "---  ------                     --------------  -----  \n",
      " 0   Wife_age                   1402 non-null   float64\n",
      " 1   Wife_ education            1473 non-null   object \n",
      " 2   Husband_education          1473 non-null   object \n",
      " 3   No_of_children_born        1452 non-null   float64\n",
      " 4   Wife_religion              1473 non-null   object \n",
      " 5   Wife_Working               1473 non-null   object \n",
      " 6   Husband_Occupation         1473 non-null   int64  \n",
      " 7   Standard_of_living_index   1473 non-null   object \n",
      " 8   Media_exposure             1473 non-null   object \n",
      " 9   Contraceptive_method_used  1473 non-null   object \n",
      "dtypes: float64(2), int64(1), object(7)\n",
      "memory usage: 115.2+ KB\n"
     ]
    }
   ],
   "source": [
    "data2.info()"
   ]
  },
  {
   "cell_type": "code",
   "execution_count": 77,
   "id": "373bc483",
   "metadata": {},
   "outputs": [
    {
     "data": {
      "text/html": [
       "<div>\n",
       "<style scoped>\n",
       "    .dataframe tbody tr th:only-of-type {\n",
       "        vertical-align: middle;\n",
       "    }\n",
       "\n",
       "    .dataframe tbody tr th {\n",
       "        vertical-align: top;\n",
       "    }\n",
       "\n",
       "    .dataframe thead th {\n",
       "        text-align: right;\n",
       "    }\n",
       "</style>\n",
       "<table border=\"1\" class=\"dataframe\">\n",
       "  <thead>\n",
       "    <tr style=\"text-align: right;\">\n",
       "      <th></th>\n",
       "      <th>count</th>\n",
       "      <th>mean</th>\n",
       "      <th>std</th>\n",
       "      <th>min</th>\n",
       "      <th>25%</th>\n",
       "      <th>50%</th>\n",
       "      <th>75%</th>\n",
       "      <th>max</th>\n",
       "    </tr>\n",
       "  </thead>\n",
       "  <tbody>\n",
       "    <tr>\n",
       "      <th>Wife_age</th>\n",
       "      <td>1402.0</td>\n",
       "      <td>32.606277</td>\n",
       "      <td>8.274927</td>\n",
       "      <td>16.0</td>\n",
       "      <td>26.0</td>\n",
       "      <td>32.0</td>\n",
       "      <td>39.0</td>\n",
       "      <td>49.0</td>\n",
       "    </tr>\n",
       "    <tr>\n",
       "      <th>No_of_children_born</th>\n",
       "      <td>1452.0</td>\n",
       "      <td>3.254132</td>\n",
       "      <td>2.365212</td>\n",
       "      <td>0.0</td>\n",
       "      <td>1.0</td>\n",
       "      <td>3.0</td>\n",
       "      <td>4.0</td>\n",
       "      <td>16.0</td>\n",
       "    </tr>\n",
       "    <tr>\n",
       "      <th>Husband_Occupation</th>\n",
       "      <td>1473.0</td>\n",
       "      <td>2.137814</td>\n",
       "      <td>0.864857</td>\n",
       "      <td>1.0</td>\n",
       "      <td>1.0</td>\n",
       "      <td>2.0</td>\n",
       "      <td>3.0</td>\n",
       "      <td>4.0</td>\n",
       "    </tr>\n",
       "  </tbody>\n",
       "</table>\n",
       "</div>"
      ],
      "text/plain": [
       "                      count       mean       std   min   25%   50%   75%   max\n",
       "Wife_age             1402.0  32.606277  8.274927  16.0  26.0  32.0  39.0  49.0\n",
       "No_of_children_born  1452.0   3.254132  2.365212   0.0   1.0   3.0   4.0  16.0\n",
       "Husband_Occupation   1473.0   2.137814  0.864857   1.0   1.0   2.0   3.0   4.0"
      ]
     },
     "execution_count": 77,
     "metadata": {},
     "output_type": "execute_result"
    }
   ],
   "source": [
    "data2.describe().T"
   ]
  },
  {
   "cell_type": "code",
   "execution_count": 78,
   "id": "5568c311",
   "metadata": {},
   "outputs": [
    {
     "data": {
      "text/plain": [
       "Wife_age                     71\n",
       "Wife_ education               0\n",
       "Husband_education             0\n",
       "No_of_children_born          21\n",
       "Wife_religion                 0\n",
       "Wife_Working                  0\n",
       "Husband_Occupation            0\n",
       "Standard_of_living_index      0\n",
       "Media_exposure                0\n",
       "Contraceptive_method_used     0\n",
       "dtype: int64"
      ]
     },
     "execution_count": 78,
     "metadata": {},
     "output_type": "execute_result"
    }
   ],
   "source": [
    "data2.isna().sum()"
   ]
  },
  {
   "cell_type": "code",
   "execution_count": 79,
   "id": "0bd34fb2",
   "metadata": {},
   "outputs": [
    {
     "name": "stdout",
     "output_type": "stream",
     "text": [
      "Number of duplicate rows = 80\n",
      "(1473, 10)\n"
     ]
    }
   ],
   "source": [
    "dups = data2.duplicated()\n",
    "print('Number of duplicate rows = %d' % (dups.sum()))\n",
    "print(data2.shape)"
   ]
  },
  {
   "cell_type": "code",
   "execution_count": 80,
   "id": "a49d72fd",
   "metadata": {},
   "outputs": [],
   "source": [
    "data2.drop_duplicates(inplace=True)"
   ]
  },
  {
   "cell_type": "code",
   "execution_count": 81,
   "id": "8786f641",
   "metadata": {},
   "outputs": [
    {
     "name": "stdout",
     "output_type": "stream",
     "text": [
      "Number of duplicate rows = 0\n",
      "(1393, 10)\n"
     ]
    }
   ],
   "source": [
    "dups = data2.duplicated()\n",
    "print('Number of duplicate rows = %d' % (dups.sum()))\n",
    "print(data2.shape)"
   ]
  },
  {
   "cell_type": "code",
   "execution_count": 82,
   "id": "c44b76b9",
   "metadata": {},
   "outputs": [
    {
     "data": {
      "text/plain": [
       "Wife_age                     67\n",
       "Wife_ education               0\n",
       "Husband_education             0\n",
       "No_of_children_born          21\n",
       "Wife_religion                 0\n",
       "Wife_Working                  0\n",
       "Husband_Occupation            0\n",
       "Standard_of_living_index      0\n",
       "Media_exposure                0\n",
       "Contraceptive_method_used     0\n",
       "dtype: int64"
      ]
     },
     "execution_count": 82,
     "metadata": {},
     "output_type": "execute_result"
    }
   ],
   "source": [
    "data2.isna().sum()"
   ]
  },
  {
   "cell_type": "code",
   "execution_count": 83,
   "id": "f4c75f6b",
   "metadata": {},
   "outputs": [
    {
     "data": {
      "text/html": [
       "<div>\n",
       "<style scoped>\n",
       "    .dataframe tbody tr th:only-of-type {\n",
       "        vertical-align: middle;\n",
       "    }\n",
       "\n",
       "    .dataframe tbody tr th {\n",
       "        vertical-align: top;\n",
       "    }\n",
       "\n",
       "    .dataframe thead th {\n",
       "        text-align: right;\n",
       "    }\n",
       "</style>\n",
       "<table border=\"1\" class=\"dataframe\">\n",
       "  <thead>\n",
       "    <tr style=\"text-align: right;\">\n",
       "      <th></th>\n",
       "      <th>count</th>\n",
       "      <th>mean</th>\n",
       "      <th>std</th>\n",
       "      <th>min</th>\n",
       "      <th>25%</th>\n",
       "      <th>50%</th>\n",
       "      <th>75%</th>\n",
       "      <th>max</th>\n",
       "    </tr>\n",
       "  </thead>\n",
       "  <tbody>\n",
       "    <tr>\n",
       "      <th>Wife_age</th>\n",
       "      <td>1326.0</td>\n",
       "      <td>32.557315</td>\n",
       "      <td>8.289259</td>\n",
       "      <td>16.0</td>\n",
       "      <td>26.0</td>\n",
       "      <td>32.0</td>\n",
       "      <td>39.0</td>\n",
       "      <td>49.0</td>\n",
       "    </tr>\n",
       "    <tr>\n",
       "      <th>No_of_children_born</th>\n",
       "      <td>1372.0</td>\n",
       "      <td>3.290816</td>\n",
       "      <td>2.399697</td>\n",
       "      <td>0.0</td>\n",
       "      <td>1.0</td>\n",
       "      <td>3.0</td>\n",
       "      <td>5.0</td>\n",
       "      <td>16.0</td>\n",
       "    </tr>\n",
       "    <tr>\n",
       "      <th>Husband_Occupation</th>\n",
       "      <td>1393.0</td>\n",
       "      <td>2.174444</td>\n",
       "      <td>0.854590</td>\n",
       "      <td>1.0</td>\n",
       "      <td>1.0</td>\n",
       "      <td>2.0</td>\n",
       "      <td>3.0</td>\n",
       "      <td>4.0</td>\n",
       "    </tr>\n",
       "  </tbody>\n",
       "</table>\n",
       "</div>"
      ],
      "text/plain": [
       "                      count       mean       std   min   25%   50%   75%   max\n",
       "Wife_age             1326.0  32.557315  8.289259  16.0  26.0  32.0  39.0  49.0\n",
       "No_of_children_born  1372.0   3.290816  2.399697   0.0   1.0   3.0   5.0  16.0\n",
       "Husband_Occupation   1393.0   2.174444  0.854590   1.0   1.0   2.0   3.0   4.0"
      ]
     },
     "execution_count": 83,
     "metadata": {},
     "output_type": "execute_result"
    }
   ],
   "source": [
    "data2.describe().T"
   ]
  },
  {
   "cell_type": "code",
   "execution_count": 84,
   "id": "476f5d5d",
   "metadata": {},
   "outputs": [],
   "source": [
    "data2[\"Wife_age\"].fillna(data2['Wife_age'].median(),inplace=True)\n",
    "data2[\"No_of_children_born\"].fillna(data2['No_of_children_born'].median(),inplace=True)"
   ]
  },
  {
   "cell_type": "code",
   "execution_count": 85,
   "id": "fea4b0ec",
   "metadata": {},
   "outputs": [
    {
     "data": {
      "text/plain": [
       "Wife_age                     0\n",
       "Wife_ education              0\n",
       "Husband_education            0\n",
       "No_of_children_born          0\n",
       "Wife_religion                0\n",
       "Wife_Working                 0\n",
       "Husband_Occupation           0\n",
       "Standard_of_living_index     0\n",
       "Media_exposure               0\n",
       "Contraceptive_method_used    0\n",
       "dtype: int64"
      ]
     },
     "execution_count": 85,
     "metadata": {},
     "output_type": "execute_result"
    }
   ],
   "source": [
    "data2.isna().sum()"
   ]
  },
  {
   "cell_type": "code",
   "execution_count": 86,
   "id": "ee9c5547",
   "metadata": {},
   "outputs": [
    {
     "name": "stdout",
     "output_type": "stream",
     "text": [
      "Wife_ education\n",
      "Tertiary      515\n",
      "Secondary     398\n",
      "Primary       330\n",
      "Uneducated    150\n",
      "Name: Wife_ education, dtype: int64\n",
      "\n",
      "\n",
      "Husband_education\n",
      "Tertiary      827\n",
      "Secondary     347\n",
      "Primary       175\n",
      "Uneducated     44\n",
      "Name: Husband_education, dtype: int64\n",
      "\n",
      "\n",
      "Wife_religion\n",
      "Scientology        1186\n",
      "Non-Scientology     207\n",
      "Name: Wife_religion, dtype: int64\n",
      "\n",
      "\n",
      "Wife_Working\n",
      "No     1043\n",
      "Yes     350\n",
      "Name: Wife_Working, dtype: int64\n",
      "\n",
      "\n",
      "Standard_of_living_index\n",
      "Very High    618\n",
      "High         419\n",
      "Low          227\n",
      "Very Low     129\n",
      "Name: Standard_of_living_index, dtype: int64\n",
      "\n",
      "\n",
      "Media_exposure \n",
      "Exposed        1284\n",
      "Not-Exposed     109\n",
      "Name: Media_exposure , dtype: int64\n",
      "\n",
      "\n",
      "Contraceptive_method_used\n",
      "Yes    779\n",
      "No     614\n",
      "Name: Contraceptive_method_used, dtype: int64\n",
      "\n",
      "\n"
     ]
    }
   ],
   "source": [
    "for feature in data2.columns: \n",
    "    if data2[feature].dtype == 'object': \n",
    "        print(feature)\n",
    "        print(data2[feature].value_counts())\n",
    "        print('\\n')"
   ]
  },
  {
   "cell_type": "code",
   "execution_count": 87,
   "id": "6e150e51",
   "metadata": {},
   "outputs": [
    {
     "data": {
      "text/plain": [
       "Index(['Wife_age', 'Wife_ education', 'Husband_education',\n",
       "       'No_of_children_born', 'Wife_religion', 'Wife_Working',\n",
       "       'Husband_Occupation', 'Standard_of_living_index', 'Media_exposure ',\n",
       "       'Contraceptive_method_used'],\n",
       "      dtype='object')"
      ]
     },
     "execution_count": 87,
     "metadata": {},
     "output_type": "execute_result"
    }
   ],
   "source": [
    "data2.columns"
   ]
  },
  {
   "cell_type": "markdown",
   "id": "0eb0b2cc",
   "metadata": {},
   "source": [
    "In descriptive statistics, a box plot or boxplot (also known as box and whisker plot) is a type of chart often used in explanatory data analysis. Box plots visually show the distribution of numerical data and skewness through displaying the data quartiles (or percentiles) and averages.\n",
    "Box plots are used to show distributions of numeric data values, especially when you want to compare them between multiple groups. They are built to provide high-level information at a glance, offering general information about a group of data's symmetry, skew, variance, and outliers."
   ]
  },
  {
   "cell_type": "code",
   "execution_count": 88,
   "id": "6989c0b8",
   "metadata": {},
   "outputs": [
    {
     "data": {
      "text/plain": [
       "<AxesSubplot:>"
      ]
     },
     "execution_count": 88,
     "metadata": {},
     "output_type": "execute_result"
    },
    {
     "data": {
      "image/png": "[encoded data removed]",
      "text/plain": [
       "<Figure size 720x360 with 1 Axes>"
      ]
     },
     "metadata": {
      "needs_background": "light"
     },
     "output_type": "display_data"
    }
   ],
   "source": [
    "sns.boxplot(data=data2)"
   ]
  },
  {
   "cell_type": "markdown",
   "id": "ace45a29",
   "metadata": {},
   "source": [
    "# Checking for Correlations."
   ]
  },
  {
   "cell_type": "markdown",
   "id": "75cbd4f2",
   "metadata": {},
   "source": [
    "A correlation coefficient is a statistical measure of the degree to which changes to the value of one variable predict change to the value of another. In positively correlated variables, the value increases or decreases in tandem.\n",
    "correlation coefficients are used to assess the strength and direction of the linear relationships between pairs of variables. When both variables are normally distributed use Pearson's correlation coefficient, otherwise use Spearman's correlation coefficient."
   ]
  },
  {
   "cell_type": "code",
   "execution_count": 89,
   "id": "1e28d0e8",
   "metadata": {},
   "outputs": [
    {
     "data": {
      "text/html": [
       "<div>\n",
       "<style scoped>\n",
       "    .dataframe tbody tr th:only-of-type {\n",
       "        vertical-align: middle;\n",
       "    }\n",
       "\n",
       "    .dataframe tbody tr th {\n",
       "        vertical-align: top;\n",
       "    }\n",
       "\n",
       "    .dataframe thead th {\n",
       "        text-align: right;\n",
       "    }\n",
       "</style>\n",
       "<table border=\"1\" class=\"dataframe\">\n",
       "  <thead>\n",
       "    <tr style=\"text-align: right;\">\n",
       "      <th></th>\n",
       "      <th>Wife_age</th>\n",
       "      <th>No_of_children_born</th>\n",
       "      <th>Husband_Occupation</th>\n",
       "    </tr>\n",
       "  </thead>\n",
       "  <tbody>\n",
       "    <tr>\n",
       "      <th>Wife_age</th>\n",
       "      <td>1.000000</td>\n",
       "      <td>0.528428</td>\n",
       "      <td>-0.187070</td>\n",
       "    </tr>\n",
       "    <tr>\n",
       "      <th>No_of_children_born</th>\n",
       "      <td>0.528428</td>\n",
       "      <td>1.000000</td>\n",
       "      <td>-0.024213</td>\n",
       "    </tr>\n",
       "    <tr>\n",
       "      <th>Husband_Occupation</th>\n",
       "      <td>-0.187070</td>\n",
       "      <td>-0.024213</td>\n",
       "      <td>1.000000</td>\n",
       "    </tr>\n",
       "  </tbody>\n",
       "</table>\n",
       "</div>"
      ],
      "text/plain": [
       "                     Wife_age  No_of_children_born  Husband_Occupation\n",
       "Wife_age             1.000000             0.528428           -0.187070\n",
       "No_of_children_born  0.528428             1.000000           -0.024213\n",
       "Husband_Occupation  -0.187070            -0.024213            1.000000"
      ]
     },
     "execution_count": 89,
     "metadata": {},
     "output_type": "execute_result"
    }
   ],
   "source": [
    "# Checking for Correlations. Print the correlation matrix and the correlation heatmap\n",
    "data2.corr()"
   ]
  },
  {
   "cell_type": "markdown",
   "id": "fca07586",
   "metadata": {},
   "source": [
    "A heat map is a two-dimensional representation of data in which values are represented by colors. A simple heat map provides an immediate visual summary of information. More elaborate heat maps allow the viewer to understand complex data sets.\n",
    "Heat Maps are graphical representations of data that utilize color-coded systems. The primary purpose of Heat Maps is to better visualize the volume of locations/events within a dataset and assist in directing viewers towards areas on data visualizations that matter most."
   ]
  },
  {
   "cell_type": "code",
   "execution_count": 90,
   "id": "2cf55395",
   "metadata": {},
   "outputs": [
    {
     "data": {
      "image/png": "[encoded data removed]",
      "text/plain": [
       "<Figure size 720x360 with 2 Axes>"
      ]
     },
     "metadata": {
      "needs_background": "light"
     },
     "output_type": "display_data"
    }
   ],
   "source": [
    "sns.heatmap(data2.corr(), annot=True,mask=np.triu(data2.corr(),+1));"
   ]
  },
  {
   "cell_type": "markdown",
   "id": "f519024a",
   "metadata": {},
   "source": [
    "# Pairplot using sns"
   ]
  },
  {
   "cell_type": "markdown",
   "id": "a4958f45",
   "metadata": {},
   "source": [
    "Plot pairwise relationships in a dataset. By default, this function will create a grid of Axes such that each numeric variable in data will by shared across the y-axes across a single row and the x-axes across a single column."
   ]
  },
  {
   "cell_type": "code",
   "execution_count": 91,
   "id": "e86e2561",
   "metadata": {},
   "outputs": [
    {
     "data": {
      "image/png": "[encoded data removed]",
      "text/plain": [
       "<Figure size 690.5x540 with 12 Axes>"
      ]
     },
     "metadata": {
      "needs_background": "light"
     },
     "output_type": "display_data"
    }
   ],
   "source": [
    "#Plot a series of scatterplots between the continuous independent variables keeping the target variable as a hue.\n",
    "sns.pairplot(data2,diag_kind='kde' ,hue='Contraceptive_method_used');"
   ]
  },
  {
   "cell_type": "markdown",
   "id": "e8ee5534",
   "metadata": {},
   "source": [
    "# Univariate Analysis"
   ]
  },
  {
   "cell_type": "code",
   "execution_count": 92,
   "id": "9a7d9f68",
   "metadata": {},
   "outputs": [
    {
     "data": {
      "text/plain": [
       "<seaborn.axisgrid.FacetGrid at 0x20fee5d5670>"
      ]
     },
     "execution_count": 92,
     "metadata": {},
     "output_type": "execute_result"
    },
    {
     "data": {
      "image/png": "[encoded data removed]",
      "text/plain": [
       "<Figure size 432x432 with 1 Axes>"
      ]
     },
     "metadata": {
      "needs_background": "light"
     },
     "output_type": "display_data"
    },
    {
     "data": {
      "image/png": "[encoded data removed]",
      "text/plain": [
       "<Figure size 360x360 with 1 Axes>"
      ]
     },
     "metadata": {
      "needs_background": "light"
     },
     "output_type": "display_data"
    }
   ],
   "source": [
    "plt.figure(figsize=(6,6))\n",
    "sns.boxplot(data=data2, x='Wife_age')\n",
    "\n",
    "sns.displot(data=data2, x='Wife_age', kde=True)\n"
   ]
  },
  {
   "cell_type": "code",
   "execution_count": 93,
   "id": "374295b9",
   "metadata": {},
   "outputs": [
    {
     "data": {
      "text/plain": [
       "<seaborn.axisgrid.FacetGrid at 0x20fee80c2e0>"
      ]
     },
     "execution_count": 93,
     "metadata": {},
     "output_type": "execute_result"
    },
    {
     "data": {
      "image/png": "[encoded data removed]",
      "text/plain": [
       "<Figure size 432x432 with 1 Axes>"
      ]
     },
     "metadata": {
      "needs_background": "light"
     },
     "output_type": "display_data"
    },
    {
     "data": {
      "image/png": "[encoded data removed]",
      "text/plain": [
       "<Figure size 360x360 with 1 Axes>"
      ]
     },
     "metadata": {
      "needs_background": "light"
     },
     "output_type": "display_data"
    }
   ],
   "source": [
    "plt.figure(figsize=(6,6))\n",
    "sns.boxplot(data=data2, x='No_of_children_born')\n",
    "\n",
    "sns.displot(data=data2, x='No_of_children_born', kde=True)\n"
   ]
  },
  {
   "cell_type": "markdown",
   "id": "53f8e478",
   "metadata": {},
   "source": [
    "Figure 3 shows the wife_age of the data-set spanning from around 16 years to almost 50 years. The middle 50% of the wife_age resides between 26 age to 39 age as can be seen from the box plot. The histogram clearly shows the right skewness of the data-set. Also, the highest proportion of records has wife_age between ~25 to ~37 years as shown in the histogram.\n",
    "\n",
    " Figure 4 clearly evident from the box plot that the middle 50% of children count ranges from 1 to 4. Also, the histogram shows the right skewness of the children count in the data-set."
   ]
  },
  {
   "cell_type": "code",
   "execution_count": 107,
   "id": "0315b98c",
   "metadata": {},
   "outputs": [
    {
     "data": {
      "image/png": "[encoded data removed]",
      "text/plain": [
       "<Figure size 1080x576 with 5 Axes>"
      ]
     },
     "metadata": {},
     "output_type": "display_data"
    }
   ],
   "source": [
    "cat_vars = ['Wife_education', 'Husband_education', 'Wife_religion', 'Wife_Working', 'Husband_Occupation','Standard_of_living_index','Media_exposure','Contraceptive_method_used']\n",
    "plt.figure(figsize = (15,8))\n",
    "for i in range(5):\n",
    "    plt.subplot(2,3,i+1)\n",
    "    plt.pie(data2[cat_vars[i]].value_counts(), labels= data2[cat_vars[i]].value_counts().index, \n",
    "            autopct = '%0.2f%%')\n",
    "    plt.title(\"Pie chart of \"+cat_vars[i].upper())\n",
    "    plt.tight_layout();"
   ]
  },
  {
   "cell_type": "markdown",
   "id": "0b3caed3",
   "metadata": {},
   "source": [
    "the above pie chats are based on the value counts which are carried out in the question 2.2"
   ]
  },
  {
   "cell_type": "markdown",
   "id": "48070247",
   "metadata": {},
   "source": [
    "# 2.2 Do not scale the data. Encode the data (having string values) for Modelling. Data Split: Split the data into train and test (70:30). Apply Logistic Regression and build multiple models with different predictors."
   ]
  },
  {
   "cell_type": "code",
   "execution_count": 95,
   "id": "9335bc0d",
   "metadata": {},
   "outputs": [
    {
     "data": {
      "text/plain": [
       "Index(['Wife_age', 'Wife_ education', 'Husband_education',\n",
       "       'No_of_children_born', 'Wife_religion', 'Wife_Working',\n",
       "       'Husband_Occupation', 'Standard_of_living_index', 'Media_exposure ',\n",
       "       'Contraceptive_method_used'],\n",
       "      dtype='object')"
      ]
     },
     "execution_count": 95,
     "metadata": {},
     "output_type": "execute_result"
    }
   ],
   "source": [
    "data2.columns"
   ]
  },
  {
   "cell_type": "markdown",
   "id": "b43713aa",
   "metadata": {},
   "source": [
    "# Change the names of the variables in a suitable way for building the logistic regression model"
   ]
  },
  {
   "cell_type": "code",
   "execution_count": 96,
   "id": "7d098639",
   "metadata": {},
   "outputs": [],
   "source": [
    "data2.rename(columns = {'Wife_ education':'Wife_education'}, inplace = True)\n",
    "data2.rename(columns = {'Media_exposure ':'Media_exposure'}, inplace = True)"
   ]
  },
  {
   "cell_type": "markdown",
   "id": "303b6f99",
   "metadata": {},
   "source": [
    "The value_counts() function is used to get a Series containing counts of unique values.\n",
    "\n",
    "The resulting object will be in descending order so that the first element is the most frequently-occurring element."
   ]
  },
  {
   "cell_type": "markdown",
   "id": "567fa65b",
   "metadata": {},
   "source": [
    "# value_counts()"
   ]
  },
  {
   "cell_type": "code",
   "execution_count": 97,
   "id": "33e6eb5f",
   "metadata": {},
   "outputs": [
    {
     "data": {
      "text/plain": [
       "4    515\n",
       "3    398\n",
       "2    330\n",
       "1    150\n",
       "Name: Wife_education, dtype: int64"
      ]
     },
     "execution_count": 97,
     "metadata": {},
     "output_type": "execute_result"
    }
   ],
   "source": [
    "data2['Wife_education'] = data2['Wife_education'].replace({\"Uneducated\":1, \"Primary\":2, \"Secondary\":3, \"Tertiary\":4})\n",
    "data2['Wife_education'].value_counts()"
   ]
  },
  {
   "cell_type": "code",
   "execution_count": 98,
   "id": "88a596e1",
   "metadata": {},
   "outputs": [
    {
     "data": {
      "text/plain": [
       "4    827\n",
       "3    347\n",
       "2    175\n",
       "1     44\n",
       "Name: Husband_education, dtype: int64"
      ]
     },
     "execution_count": 98,
     "metadata": {},
     "output_type": "execute_result"
    }
   ],
   "source": [
    "data2['Husband_education'] = data2['Husband_education'].replace({\"Uneducated\":1, \"Primary\":2, \"Secondary\":3, \"Tertiary\":4})\n",
    "data2['Husband_education'].value_counts()"
   ]
  },
  {
   "cell_type": "code",
   "execution_count": 99,
   "id": "ee2be3f2",
   "metadata": {},
   "outputs": [
    {
     "data": {
      "text/plain": [
       "4    618\n",
       "3    419\n",
       "2    227\n",
       "1    129\n",
       "Name: Standard_of_living_index, dtype: int64"
      ]
     },
     "execution_count": 99,
     "metadata": {},
     "output_type": "execute_result"
    }
   ],
   "source": [
    "data2['Standard_of_living_index'] = data2['Standard_of_living_index'].replace({\"Very Low\":1, \"Low\":2, \"High\":3, \"Very High\":4})\n",
    "data2['Standard_of_living_index'].value_counts()"
   ]
  },
  {
   "cell_type": "code",
   "execution_count": 100,
   "id": "c236eca2",
   "metadata": {},
   "outputs": [
    {
     "data": {
      "text/plain": [
       "Good        1284\n",
       "Not_good     109\n",
       "Name: Media_exposure, dtype: int64"
      ]
     },
     "execution_count": 100,
     "metadata": {},
     "output_type": "execute_result"
    }
   ],
   "source": [
    "data2['Media_exposure'] = data2['Media_exposure'].replace({'Exposed':'Good','Not-Exposed':'Not_good'})\n",
    "data2['Media_exposure'].value_counts()"
   ]
  },
  {
   "cell_type": "code",
   "execution_count": 101,
   "id": "c5eb2b50",
   "metadata": {},
   "outputs": [
    {
     "data": {
      "text/plain": [
       "Good        1284\n",
       "Not_good     109\n",
       "Name: Media_exposure, dtype: int64"
      ]
     },
     "execution_count": 101,
     "metadata": {},
     "output_type": "execute_result"
    }
   ],
   "source": [
    "data2['Media_exposure'] = data2['Media_exposure'].replace({'Exposed':'Good','Not-Exposed':'Not_good'})\n",
    "data2['Media_exposure'].value_counts()"
   ]
  },
  {
   "cell_type": "markdown",
   "id": "fb4d45e7",
   "metadata": {},
   "source": [
    "# Convert categorical variable into dummy/indicator variables. "
   ]
  },
  {
   "cell_type": "code",
   "execution_count": 102,
   "id": "cb3fd9df",
   "metadata": {},
   "outputs": [],
   "source": [
    "data2_dummy = pd.get_dummies(data2, drop_first=True)"
   ]
  },
  {
   "cell_type": "code",
   "execution_count": 103,
   "id": "7e560562",
   "metadata": {},
   "outputs": [
    {
     "data": {
      "text/html": [
       "<div>\n",
       "<style scoped>\n",
       "    .dataframe tbody tr th:only-of-type {\n",
       "        vertical-align: middle;\n",
       "    }\n",
       "\n",
       "    .dataframe tbody tr th {\n",
       "        vertical-align: top;\n",
       "    }\n",
       "\n",
       "    .dataframe thead th {\n",
       "        text-align: right;\n",
       "    }\n",
       "</style>\n",
       "<table border=\"1\" class=\"dataframe\">\n",
       "  <thead>\n",
       "    <tr style=\"text-align: right;\">\n",
       "      <th></th>\n",
       "      <th>Wife_age</th>\n",
       "      <th>Wife_education</th>\n",
       "      <th>Husband_education</th>\n",
       "      <th>No_of_children_born</th>\n",
       "      <th>Husband_Occupation</th>\n",
       "      <th>Standard_of_living_index</th>\n",
       "      <th>Wife_religion_Scientology</th>\n",
       "      <th>Wife_Working_Yes</th>\n",
       "      <th>Media_exposure_Not_good</th>\n",
       "      <th>Contraceptive_method_used_Yes</th>\n",
       "    </tr>\n",
       "  </thead>\n",
       "  <tbody>\n",
       "    <tr>\n",
       "      <th>0</th>\n",
       "      <td>24.0</td>\n",
       "      <td>2</td>\n",
       "      <td>3</td>\n",
       "      <td>3.0</td>\n",
       "      <td>2</td>\n",
       "      <td>3</td>\n",
       "      <td>1</td>\n",
       "      <td>0</td>\n",
       "      <td>0</td>\n",
       "      <td>0</td>\n",
       "    </tr>\n",
       "    <tr>\n",
       "      <th>1</th>\n",
       "      <td>45.0</td>\n",
       "      <td>1</td>\n",
       "      <td>3</td>\n",
       "      <td>10.0</td>\n",
       "      <td>3</td>\n",
       "      <td>4</td>\n",
       "      <td>1</td>\n",
       "      <td>0</td>\n",
       "      <td>0</td>\n",
       "      <td>0</td>\n",
       "    </tr>\n",
       "    <tr>\n",
       "      <th>2</th>\n",
       "      <td>43.0</td>\n",
       "      <td>2</td>\n",
       "      <td>3</td>\n",
       "      <td>7.0</td>\n",
       "      <td>3</td>\n",
       "      <td>4</td>\n",
       "      <td>1</td>\n",
       "      <td>0</td>\n",
       "      <td>0</td>\n",
       "      <td>0</td>\n",
       "    </tr>\n",
       "    <tr>\n",
       "      <th>3</th>\n",
       "      <td>42.0</td>\n",
       "      <td>3</td>\n",
       "      <td>2</td>\n",
       "      <td>9.0</td>\n",
       "      <td>3</td>\n",
       "      <td>3</td>\n",
       "      <td>1</td>\n",
       "      <td>0</td>\n",
       "      <td>0</td>\n",
       "      <td>0</td>\n",
       "    </tr>\n",
       "    <tr>\n",
       "      <th>4</th>\n",
       "      <td>36.0</td>\n",
       "      <td>3</td>\n",
       "      <td>3</td>\n",
       "      <td>8.0</td>\n",
       "      <td>3</td>\n",
       "      <td>2</td>\n",
       "      <td>1</td>\n",
       "      <td>0</td>\n",
       "      <td>0</td>\n",
       "      <td>0</td>\n",
       "    </tr>\n",
       "  </tbody>\n",
       "</table>\n",
       "</div>"
      ],
      "text/plain": [
       "   Wife_age  Wife_education  Husband_education  No_of_children_born  \\\n",
       "0      24.0               2                  3                  3.0   \n",
       "1      45.0               1                  3                 10.0   \n",
       "2      43.0               2                  3                  7.0   \n",
       "3      42.0               3                  2                  9.0   \n",
       "4      36.0               3                  3                  8.0   \n",
       "\n",
       "   Husband_Occupation  Standard_of_living_index  Wife_religion_Scientology  \\\n",
       "0                   2                         3                          1   \n",
       "1                   3                         4                          1   \n",
       "2                   3                         4                          1   \n",
       "3                   3                         3                          1   \n",
       "4                   3                         2                          1   \n",
       "\n",
       "   Wife_Working_Yes  Media_exposure_Not_good  Contraceptive_method_used_Yes  \n",
       "0                 0                        0                              0  \n",
       "1                 0                        0                              0  \n",
       "2                 0                        0                              0  \n",
       "3                 0                        0                              0  \n",
       "4                 0                        0                              0  "
      ]
     },
     "execution_count": 103,
     "metadata": {},
     "output_type": "execute_result"
    }
   ],
   "source": [
    "data2_dummy.head()"
   ]
  },
  {
   "cell_type": "code",
   "execution_count": 104,
   "id": "c960edc2",
   "metadata": {},
   "outputs": [
    {
     "data": {
      "text/plain": [
       "(1393, 10)"
      ]
     },
     "execution_count": 104,
     "metadata": {},
     "output_type": "execute_result"
    }
   ],
   "source": [
    "data2_dummy.shape"
   ]
  },
  {
   "cell_type": "code",
   "execution_count": 105,
   "id": "7f3fb15c",
   "metadata": {
    "scrolled": true
   },
   "outputs": [
    {
     "name": "stdout",
     "output_type": "stream",
     "text": [
      "<class 'pandas.core.frame.DataFrame'>\n",
      "Int64Index: 1393 entries, 0 to 1472\n",
      "Data columns (total 10 columns):\n",
      " #   Column                         Non-Null Count  Dtype  \n",
      "---  ------                         --------------  -----  \n",
      " 0   Wife_age                       1393 non-null   float64\n",
      " 1   Wife_education                 1393 non-null   int64  \n",
      " 2   Husband_education              1393 non-null   int64  \n",
      " 3   No_of_children_born            1393 non-null   float64\n",
      " 4   Husband_Occupation             1393 non-null   int64  \n",
      " 5   Standard_of_living_index       1393 non-null   int64  \n",
      " 6   Wife_religion_Scientology      1393 non-null   uint8  \n",
      " 7   Wife_Working_Yes               1393 non-null   uint8  \n",
      " 8   Media_exposure_Not_good        1393 non-null   uint8  \n",
      " 9   Contraceptive_method_used_Yes  1393 non-null   uint8  \n",
      "dtypes: float64(2), int64(4), uint8(4)\n",
      "memory usage: 81.6 KB\n"
     ]
    }
   ],
   "source": [
    "data2_dummy.info()"
   ]
  },
  {
   "cell_type": "markdown",
   "id": "c3cd16b9",
   "metadata": {},
   "source": [
    "# Using stat model"
   ]
  },
  {
   "cell_type": "code",
   "execution_count": 106,
   "id": "863a61e2",
   "metadata": {},
   "outputs": [],
   "source": [
    "import statsmodels.formula.api as sm"
   ]
  },
  {
   "cell_type": "code",
   "execution_count": 108,
   "id": "9e5cede3",
   "metadata": {},
   "outputs": [
    {
     "data": {
      "text/plain": [
       "Index(['Wife_age', 'Wife_education', 'Husband_education',\n",
       "       'No_of_children_born', 'Husband_Occupation', 'Standard_of_living_index',\n",
       "       'Wife_religion_Scientology', 'Wife_Working_Yes',\n",
       "       'Media_exposure_Not_good', 'Contraceptive_method_used_Yes'],\n",
       "      dtype='object')"
      ]
     },
     "execution_count": 108,
     "metadata": {},
     "output_type": "execute_result"
    }
   ],
   "source": [
    "data2_dummy.columns"
   ]
  },
  {
   "cell_type": "markdown",
   "id": "8018f45b",
   "metadata": {},
   "source": [
    "summing up the coloumns for the model preparation "
   ]
  },
  {
   "cell_type": "code",
   "execution_count": 109,
   "id": "15073d3a",
   "metadata": {},
   "outputs": [
    {
     "data": {
      "text/plain": [
       "'Wife_age+Wife_education+Husband_education+No_of_children_born+Husband_Occupation+Standard_of_living_index+Wife_religion_Scientology+Wife_Working_Yes+Media_exposure_Not_good+Contraceptive_method_used_Yes'"
      ]
     },
     "execution_count": 109,
     "metadata": {},
     "output_type": "execute_result"
    }
   ],
   "source": [
    "'+'.join(data2_dummy.columns)"
   ]
  },
  {
   "cell_type": "markdown",
   "id": "ced55648",
   "metadata": {},
   "source": [
    "# Model_1"
   ]
  },
  {
   "cell_type": "code",
   "execution_count": 110,
   "id": "bd45ac68",
   "metadata": {},
   "outputs": [],
   "source": [
    "formula_1='Contraceptive_method_used_Yes~Wife_age+Wife_education+Husband_education+No_of_children_born+Husband_Occupation+Standard_of_living_index+Wife_religion_Scientology+Wife_Working_Yes+Media_exposure_Not_good'"
   ]
  },
  {
   "cell_type": "code",
   "execution_count": 111,
   "id": "5f113d61",
   "metadata": {
    "scrolled": true
   },
   "outputs": [
    {
     "name": "stdout",
     "output_type": "stream",
     "text": [
      "Optimization terminated successfully.\n",
      "         Current function value: 0.611067\n",
      "         Iterations 5\n"
     ]
    }
   ],
   "source": [
    "Logistic_1 = sm.logit(formula=formula_1,data=data2_dummy).fit()"
   ]
  },
  {
   "cell_type": "code",
   "execution_count": 112,
   "id": "204638ab",
   "metadata": {},
   "outputs": [
    {
     "data": {
      "text/html": [
       "<table class=\"simpletable\">\n",
       "<caption>Logit Regression Results</caption>\n",
       "<tr>\n",
       "  <th>Dep. Variable:</th>   <td>Contraceptive_method_used_Yes</td> <th>  No. Observations:  </th>  <td>  1393</td>  \n",
       "</tr>\n",
       "<tr>\n",
       "  <th>Model:</th>                       <td>Logit</td>             <th>  Df Residuals:      </th>  <td>  1383</td>  \n",
       "</tr>\n",
       "<tr>\n",
       "  <th>Method:</th>                       <td>MLE</td>              <th>  Df Model:          </th>  <td>     9</td>  \n",
       "</tr>\n",
       "<tr>\n",
       "  <th>Date:</th>                  <td>Thu, 01 Dec 2022</td>        <th>  Pseudo R-squ.:     </th>  <td>0.1094</td>  \n",
       "</tr>\n",
       "<tr>\n",
       "  <th>Time:</th>                      <td>00:50:15</td>            <th>  Log-Likelihood:    </th> <td> -851.22</td> \n",
       "</tr>\n",
       "<tr>\n",
       "  <th>converged:</th>                   <td>True</td>              <th>  LL-Null:           </th> <td> -955.76</td> \n",
       "</tr>\n",
       "<tr>\n",
       "  <th>Covariance Type:</th>           <td>nonrobust</td>           <th>  LLR p-value:       </th> <td>4.115e-40</td>\n",
       "</tr>\n",
       "</table>\n",
       "<table class=\"simpletable\">\n",
       "<tr>\n",
       "              <td></td>                 <th>coef</th>     <th>std err</th>      <th>z</th>      <th>P>|z|</th>  <th>[0.025</th>    <th>0.975]</th>  \n",
       "</tr>\n",
       "<tr>\n",
       "  <th>Intercept</th>                 <td>   -0.4274</td> <td>    0.555</td> <td>   -0.770</td> <td> 0.441</td> <td>   -1.516</td> <td>    0.661</td>\n",
       "</tr>\n",
       "<tr>\n",
       "  <th>Wife_age</th>                  <td>   -0.0771</td> <td>    0.010</td> <td>   -7.990</td> <td> 0.000</td> <td>   -0.096</td> <td>   -0.058</td>\n",
       "</tr>\n",
       "<tr>\n",
       "  <th>Wife_education</th>            <td>    0.5112</td> <td>    0.080</td> <td>    6.389</td> <td> 0.000</td> <td>    0.354</td> <td>    0.668</td>\n",
       "</tr>\n",
       "<tr>\n",
       "  <th>Husband_education</th>         <td>    0.0165</td> <td>    0.092</td> <td>    0.179</td> <td> 0.858</td> <td>   -0.164</td> <td>    0.197</td>\n",
       "</tr>\n",
       "<tr>\n",
       "  <th>No_of_children_born</th>       <td>    0.3165</td> <td>    0.034</td> <td>    9.333</td> <td> 0.000</td> <td>    0.250</td> <td>    0.383</td>\n",
       "</tr>\n",
       "<tr>\n",
       "  <th>Husband_Occupation</th>        <td>    0.1138</td> <td>    0.077</td> <td>    1.475</td> <td> 0.140</td> <td>   -0.037</td> <td>    0.265</td>\n",
       "</tr>\n",
       "<tr>\n",
       "  <th>Standard_of_living_index</th>  <td>    0.2403</td> <td>    0.067</td> <td>    3.583</td> <td> 0.000</td> <td>    0.109</td> <td>    0.372</td>\n",
       "</tr>\n",
       "<tr>\n",
       "  <th>Wife_religion_Scientology</th> <td>   -0.3797</td> <td>    0.174</td> <td>   -2.176</td> <td> 0.030</td> <td>   -0.722</td> <td>   -0.038</td>\n",
       "</tr>\n",
       "<tr>\n",
       "  <th>Wife_Working_Yes</th>          <td>   -0.1350</td> <td>    0.135</td> <td>   -0.998</td> <td> 0.318</td> <td>   -0.400</td> <td>    0.130</td>\n",
       "</tr>\n",
       "<tr>\n",
       "  <th>Media_exposure_Not_good</th>   <td>   -0.4623</td> <td>    0.246</td> <td>   -1.881</td> <td> 0.060</td> <td>   -0.944</td> <td>    0.019</td>\n",
       "</tr>\n",
       "</table>"
      ],
      "text/plain": [
       "<class 'statsmodels.iolib.summary.Summary'>\n",
       "\"\"\"\n",
       "                                 Logit Regression Results                                \n",
       "=========================================================================================\n",
       "Dep. Variable:     Contraceptive_method_used_Yes   No. Observations:                 1393\n",
       "Model:                                     Logit   Df Residuals:                     1383\n",
       "Method:                                      MLE   Df Model:                            9\n",
       "Date:                           Thu, 01 Dec 2022   Pseudo R-squ.:                  0.1094\n",
       "Time:                                   00:50:15   Log-Likelihood:                -851.22\n",
       "converged:                                  True   LL-Null:                       -955.76\n",
       "Covariance Type:                       nonrobust   LLR p-value:                 4.115e-40\n",
       "=============================================================================================\n",
       "                                coef    std err          z      P>|z|      [0.025      0.975]\n",
       "---------------------------------------------------------------------------------------------\n",
       "Intercept                    -0.4274      0.555     -0.770      0.441      -1.516       0.661\n",
       "Wife_age                     -0.0771      0.010     -7.990      0.000      -0.096      -0.058\n",
       "Wife_education                0.5112      0.080      6.389      0.000       0.354       0.668\n",
       "Husband_education             0.0165      0.092      0.179      0.858      -0.164       0.197\n",
       "No_of_children_born           0.3165      0.034      9.333      0.000       0.250       0.383\n",
       "Husband_Occupation            0.1138      0.077      1.475      0.140      -0.037       0.265\n",
       "Standard_of_living_index      0.2403      0.067      3.583      0.000       0.109       0.372\n",
       "Wife_religion_Scientology    -0.3797      0.174     -2.176      0.030      -0.722      -0.038\n",
       "Wife_Working_Yes             -0.1350      0.135     -0.998      0.318      -0.400       0.130\n",
       "Media_exposure_Not_good      -0.4623      0.246     -1.881      0.060      -0.944       0.019\n",
       "=============================================================================================\n",
       "\"\"\""
      ]
     },
     "execution_count": 112,
     "metadata": {},
     "output_type": "execute_result"
    }
   ],
   "source": [
    "Logistic_1.summary()"
   ]
  },
  {
   "cell_type": "code",
   "execution_count": 113,
   "id": "2e05fdfd",
   "metadata": {},
   "outputs": [],
   "source": [
    "def vif_cal(input_data):\n",
    "    x_vars=input_data\n",
    "    xvar_names=input_data.columns\n",
    "    for i in range(0,xvar_names.shape[0]):\n",
    "        y=x_vars[xvar_names[i]] \n",
    "        x=x_vars[xvar_names.drop(xvar_names[i])]\n",
    "        rsq=sm.ols(formula=\"y~x\", data=x_vars).fit().rsquared  \n",
    "        vif=round(1/(1-rsq),2)\n",
    "        print (xvar_names[i], \" VIF = \" , vif)"
   ]
  },
  {
   "cell_type": "code",
   "execution_count": 114,
   "id": "1f576cf3",
   "metadata": {},
   "outputs": [
    {
     "name": "stdout",
     "output_type": "stream",
     "text": [
      "Wife_age  VIF =  1.58\n",
      "Wife_education  VIF =  1.85\n",
      "Husband_education  VIF =  1.7\n",
      "No_of_children_born  VIF =  1.51\n",
      "Husband_Occupation  VIF =  1.26\n",
      "Standard_of_living_index  VIF =  1.29\n",
      "Wife_religion_Scientology  VIF =  1.12\n",
      "Wife_Working_Yes  VIF =  1.03\n",
      "Media_exposure_Not_good  VIF =  1.18\n"
     ]
    }
   ],
   "source": [
    "vif_cal(input_data=data2_dummy[['Wife_age', 'Wife_education', 'Husband_education',\n",
    "       'No_of_children_born', 'Husband_Occupation', 'Standard_of_living_index',\n",
    "       'Wife_religion_Scientology', 'Wife_Working_Yes',\n",
    "       'Media_exposure_Not_good']])"
   ]
  },
  {
   "cell_type": "markdown",
   "id": "1db35b9f",
   "metadata": {},
   "source": [
    "Preparing the regression models based on variance inflaction factor\n",
    "\n",
    "A variance inflation factor (VIF) provides a measure of multicollinearity among the independent variables in a multiple regression model.\n",
    "\n",
    "Detecting multicollinearity is important because while multicollinearity does not reduce the explanatory power of the model, it does reduce the statistical significance of the independent variables. \n",
    "\n",
    "A large VIF on an independent variable indicates a highly collinear relationship to the other variables that should be considered or adjusted for in the structure of the model and selection of independent variables."
   ]
  },
  {
   "cell_type": "code",
   "execution_count": 115,
   "id": "0277b3c1",
   "metadata": {},
   "outputs": [
    {
     "name": "stdout",
     "output_type": "stream",
     "text": [
      "The adjusted pseudo R-square value is 0.09996487208682903\n"
     ]
    }
   ],
   "source": [
    "print('The adjusted pseudo R-square value is',1 - ((Logistic_1.llf - Logistic_1.df_model)/Logistic_1.llnull))"
   ]
  },
  {
   "cell_type": "markdown",
   "id": "1982d203",
   "metadata": {},
   "source": [
    "# Model 2\n",
    "# Model without the 'Husband_education' variable"
   ]
  },
  {
   "cell_type": "code",
   "execution_count": 116,
   "id": "17eccbfd",
   "metadata": {},
   "outputs": [],
   "source": [
    "formula_2 = 'Contraceptive_method_used_Yes ~ Wife_age + Wife_education + No_of_children_born + Husband_Occupation + Standard_of_living_index + Wife_religion_Scientology + Wife_Working_Yes + Media_exposure_Not_good'"
   ]
  },
  {
   "cell_type": "code",
   "execution_count": 117,
   "id": "309a0d2e",
   "metadata": {},
   "outputs": [
    {
     "name": "stdout",
     "output_type": "stream",
     "text": [
      "Optimization terminated successfully.\n",
      "         Current function value: 0.611079\n",
      "         Iterations 5\n"
     ]
    },
    {
     "data": {
      "text/html": [
       "<table class=\"simpletable\">\n",
       "<caption>Logit Regression Results</caption>\n",
       "<tr>\n",
       "  <th>Dep. Variable:</th>   <td>Contraceptive_method_used_Yes</td> <th>  No. Observations:  </th>  <td>  1393</td>  \n",
       "</tr>\n",
       "<tr>\n",
       "  <th>Model:</th>                       <td>Logit</td>             <th>  Df Residuals:      </th>  <td>  1384</td>  \n",
       "</tr>\n",
       "<tr>\n",
       "  <th>Method:</th>                       <td>MLE</td>              <th>  Df Model:          </th>  <td>     8</td>  \n",
       "</tr>\n",
       "<tr>\n",
       "  <th>Date:</th>                  <td>Thu, 01 Dec 2022</td>        <th>  Pseudo R-squ.:     </th>  <td>0.1094</td>  \n",
       "</tr>\n",
       "<tr>\n",
       "  <th>Time:</th>                      <td>00:50:17</td>            <th>  Log-Likelihood:    </th> <td> -851.23</td> \n",
       "</tr>\n",
       "<tr>\n",
       "  <th>converged:</th>                   <td>True</td>              <th>  LL-Null:           </th> <td> -955.76</td> \n",
       "</tr>\n",
       "<tr>\n",
       "  <th>Covariance Type:</th>           <td>nonrobust</td>           <th>  LLR p-value:       </th> <td>7.885e-41</td>\n",
       "</tr>\n",
       "</table>\n",
       "<table class=\"simpletable\">\n",
       "<tr>\n",
       "              <td></td>                 <th>coef</th>     <th>std err</th>      <th>z</th>      <th>P>|z|</th>  <th>[0.025</th>    <th>0.975]</th>  \n",
       "</tr>\n",
       "<tr>\n",
       "  <th>Intercept</th>                 <td>   -0.3881</td> <td>    0.510</td> <td>   -0.761</td> <td> 0.446</td> <td>   -1.387</td> <td>    0.611</td>\n",
       "</tr>\n",
       "<tr>\n",
       "  <th>Wife_age</th>                  <td>   -0.0772</td> <td>    0.010</td> <td>   -7.995</td> <td> 0.000</td> <td>   -0.096</td> <td>   -0.058</td>\n",
       "</tr>\n",
       "<tr>\n",
       "  <th>Wife_education</th>            <td>    0.5176</td> <td>    0.072</td> <td>    7.225</td> <td> 0.000</td> <td>    0.377</td> <td>    0.658</td>\n",
       "</tr>\n",
       "<tr>\n",
       "  <th>No_of_children_born</th>       <td>    0.3160</td> <td>    0.034</td> <td>    9.348</td> <td> 0.000</td> <td>    0.250</td> <td>    0.382</td>\n",
       "</tr>\n",
       "<tr>\n",
       "  <th>Husband_Occupation</th>        <td>    0.1122</td> <td>    0.077</td> <td>    1.464</td> <td> 0.143</td> <td>   -0.038</td> <td>    0.262</td>\n",
       "</tr>\n",
       "<tr>\n",
       "  <th>Standard_of_living_index</th>  <td>    0.2422</td> <td>    0.066</td> <td>    3.656</td> <td> 0.000</td> <td>    0.112</td> <td>    0.372</td>\n",
       "</tr>\n",
       "<tr>\n",
       "  <th>Wife_religion_Scientology</th> <td>   -0.3807</td> <td>    0.174</td> <td>   -2.183</td> <td> 0.029</td> <td>   -0.723</td> <td>   -0.039</td>\n",
       "</tr>\n",
       "<tr>\n",
       "  <th>Wife_Working_Yes</th>          <td>   -0.1366</td> <td>    0.135</td> <td>   -1.012</td> <td> 0.312</td> <td>   -0.401</td> <td>    0.128</td>\n",
       "</tr>\n",
       "<tr>\n",
       "  <th>Media_exposure_Not_good</th>   <td>   -0.4658</td> <td>    0.245</td> <td>   -1.901</td> <td> 0.057</td> <td>   -0.946</td> <td>    0.014</td>\n",
       "</tr>\n",
       "</table>"
      ],
      "text/plain": [
       "<class 'statsmodels.iolib.summary.Summary'>\n",
       "\"\"\"\n",
       "                                 Logit Regression Results                                \n",
       "=========================================================================================\n",
       "Dep. Variable:     Contraceptive_method_used_Yes   No. Observations:                 1393\n",
       "Model:                                     Logit   Df Residuals:                     1384\n",
       "Method:                                      MLE   Df Model:                            8\n",
       "Date:                           Thu, 01 Dec 2022   Pseudo R-squ.:                  0.1094\n",
       "Time:                                   00:50:17   Log-Likelihood:                -851.23\n",
       "converged:                                  True   LL-Null:                       -955.76\n",
       "Covariance Type:                       nonrobust   LLR p-value:                 7.885e-41\n",
       "=============================================================================================\n",
       "                                coef    std err          z      P>|z|      [0.025      0.975]\n",
       "---------------------------------------------------------------------------------------------\n",
       "Intercept                    -0.3881      0.510     -0.761      0.446      -1.387       0.611\n",
       "Wife_age                     -0.0772      0.010     -7.995      0.000      -0.096      -0.058\n",
       "Wife_education                0.5176      0.072      7.225      0.000       0.377       0.658\n",
       "No_of_children_born           0.3160      0.034      9.348      0.000       0.250       0.382\n",
       "Husband_Occupation            0.1122      0.077      1.464      0.143      -0.038       0.262\n",
       "Standard_of_living_index      0.2422      0.066      3.656      0.000       0.112       0.372\n",
       "Wife_religion_Scientology    -0.3807      0.174     -2.183      0.029      -0.723      -0.039\n",
       "Wife_Working_Yes             -0.1366      0.135     -1.012      0.312      -0.401       0.128\n",
       "Media_exposure_Not_good      -0.4658      0.245     -1.901      0.057      -0.946       0.014\n",
       "=============================================================================================\n",
       "\"\"\""
      ]
     },
     "execution_count": 117,
     "metadata": {},
     "output_type": "execute_result"
    }
   ],
   "source": [
    "Logistic_2 = sm.logit(formula=formula_2,data=data2_dummy).fit()\n",
    "Logistic_2.summary()"
   ]
  },
  {
   "cell_type": "markdown",
   "id": "4e6dd873",
   "metadata": {},
   "source": [
    "Adjusted R2 is a corrected goodness-of-fit (model accuracy) measure for linear models. It identifies the percentage of variance in the target field that is explained by the input or inputs.\n",
    "\n",
    "R2 tends to optimistically estimate the fit of the linear regression. It always increases as the number of effects are included in the model. Adjusted R2 attempts to correct for this overestimation. Adjusted R2 might decrease if a specific effect does not improve the model.\n",
    "\n",
    "Adjusted R squared is calculated by dividing the residual mean square error by the total mean square error (which is the sample variance of the target field). The result is then subtracted from 1.\n",
    "\n",
    "Adjusted R 2 isalways less than or equal to R2. A value of 1 indicates a model that perfectly predicts values in the target field. A value that is less than or equal to 0 indicates a model that has no predictive value. In the real world, adjusted R2lies between these values."
   ]
  },
  {
   "cell_type": "code",
   "execution_count": 118,
   "id": "dc389071",
   "metadata": {
    "scrolled": true
   },
   "outputs": [
    {
     "name": "stdout",
     "output_type": "stream",
     "text": [
      "The adjusted pseudo R-square value is 0.10099445742155944\n"
     ]
    }
   ],
   "source": [
    "print('The adjusted pseudo R-square value is',1 - ((Logistic_2.llf - Logistic_2.df_model)/Logistic_2.llnull))"
   ]
  },
  {
   "cell_type": "markdown",
   "id": "45d85fd8",
   "metadata": {},
   "source": [
    "# Model 3\n",
    "# Model without the 'Wife_Working_Yes' variable"
   ]
  },
  {
   "cell_type": "code",
   "execution_count": 119,
   "id": "27452725",
   "metadata": {},
   "outputs": [],
   "source": [
    "formula_3 = 'Contraceptive_method_used_Yes ~ Wife_age + Wife_education + No_of_children_born + Husband_Occupation + Standard_of_living_index + Wife_religion_Scientology + Media_exposure_Not_good '"
   ]
  },
  {
   "cell_type": "code",
   "execution_count": 120,
   "id": "5150d23f",
   "metadata": {},
   "outputs": [
    {
     "name": "stdout",
     "output_type": "stream",
     "text": [
      "Optimization terminated successfully.\n",
      "         Current function value: 0.611446\n",
      "         Iterations 5\n"
     ]
    },
    {
     "data": {
      "text/html": [
       "<table class=\"simpletable\">\n",
       "<caption>Logit Regression Results</caption>\n",
       "<tr>\n",
       "  <th>Dep. Variable:</th>   <td>Contraceptive_method_used_Yes</td> <th>  No. Observations:  </th>  <td>  1393</td>  \n",
       "</tr>\n",
       "<tr>\n",
       "  <th>Model:</th>                       <td>Logit</td>             <th>  Df Residuals:      </th>  <td>  1385</td>  \n",
       "</tr>\n",
       "<tr>\n",
       "  <th>Method:</th>                       <td>MLE</td>              <th>  Df Model:          </th>  <td>     7</td>  \n",
       "</tr>\n",
       "<tr>\n",
       "  <th>Date:</th>                  <td>Thu, 01 Dec 2022</td>        <th>  Pseudo R-squ.:     </th>  <td>0.1088</td>  \n",
       "</tr>\n",
       "<tr>\n",
       "  <th>Time:</th>                      <td>00:50:19</td>            <th>  Log-Likelihood:    </th> <td> -851.74</td> \n",
       "</tr>\n",
       "<tr>\n",
       "  <th>converged:</th>                   <td>True</td>              <th>  LL-Null:           </th> <td> -955.76</td> \n",
       "</tr>\n",
       "<tr>\n",
       "  <th>Covariance Type:</th>           <td>nonrobust</td>           <th>  LLR p-value:       </th> <td>2.283e-41</td>\n",
       "</tr>\n",
       "</table>\n",
       "<table class=\"simpletable\">\n",
       "<tr>\n",
       "              <td></td>                 <th>coef</th>     <th>std err</th>      <th>z</th>      <th>P>|z|</th>  <th>[0.025</th>    <th>0.975]</th>  \n",
       "</tr>\n",
       "<tr>\n",
       "  <th>Intercept</th>                 <td>   -0.3876</td> <td>    0.509</td> <td>   -0.761</td> <td> 0.447</td> <td>   -1.386</td> <td>    0.611</td>\n",
       "</tr>\n",
       "<tr>\n",
       "  <th>Wife_age</th>                  <td>   -0.0779</td> <td>    0.010</td> <td>   -8.095</td> <td> 0.000</td> <td>   -0.097</td> <td>   -0.059</td>\n",
       "</tr>\n",
       "<tr>\n",
       "  <th>Wife_education</th>            <td>    0.5150</td> <td>    0.072</td> <td>    7.201</td> <td> 0.000</td> <td>    0.375</td> <td>    0.655</td>\n",
       "</tr>\n",
       "<tr>\n",
       "  <th>No_of_children_born</th>       <td>    0.3199</td> <td>    0.034</td> <td>    9.511</td> <td> 0.000</td> <td>    0.254</td> <td>    0.386</td>\n",
       "</tr>\n",
       "<tr>\n",
       "  <th>Husband_Occupation</th>        <td>    0.1104</td> <td>    0.077</td> <td>    1.442</td> <td> 0.149</td> <td>   -0.040</td> <td>    0.260</td>\n",
       "</tr>\n",
       "<tr>\n",
       "  <th>Standard_of_living_index</th>  <td>    0.2381</td> <td>    0.066</td> <td>    3.603</td> <td> 0.000</td> <td>    0.109</td> <td>    0.368</td>\n",
       "</tr>\n",
       "<tr>\n",
       "  <th>Wife_religion_Scientology</th> <td>   -0.3799</td> <td>    0.174</td> <td>   -2.179</td> <td> 0.029</td> <td>   -0.722</td> <td>   -0.038</td>\n",
       "</tr>\n",
       "<tr>\n",
       "  <th>Media_exposure_Not_good</th>   <td>   -0.4759</td> <td>    0.245</td> <td>   -1.942</td> <td> 0.052</td> <td>   -0.956</td> <td>    0.004</td>\n",
       "</tr>\n",
       "</table>"
      ],
      "text/plain": [
       "<class 'statsmodels.iolib.summary.Summary'>\n",
       "\"\"\"\n",
       "                                 Logit Regression Results                                \n",
       "=========================================================================================\n",
       "Dep. Variable:     Contraceptive_method_used_Yes   No. Observations:                 1393\n",
       "Model:                                     Logit   Df Residuals:                     1385\n",
       "Method:                                      MLE   Df Model:                            7\n",
       "Date:                           Thu, 01 Dec 2022   Pseudo R-squ.:                  0.1088\n",
       "Time:                                   00:50:19   Log-Likelihood:                -851.74\n",
       "converged:                                  True   LL-Null:                       -955.76\n",
       "Covariance Type:                       nonrobust   LLR p-value:                 2.283e-41\n",
       "=============================================================================================\n",
       "                                coef    std err          z      P>|z|      [0.025      0.975]\n",
       "---------------------------------------------------------------------------------------------\n",
       "Intercept                    -0.3876      0.509     -0.761      0.447      -1.386       0.611\n",
       "Wife_age                     -0.0779      0.010     -8.095      0.000      -0.097      -0.059\n",
       "Wife_education                0.5150      0.072      7.201      0.000       0.375       0.655\n",
       "No_of_children_born           0.3199      0.034      9.511      0.000       0.254       0.386\n",
       "Husband_Occupation            0.1104      0.077      1.442      0.149      -0.040       0.260\n",
       "Standard_of_living_index      0.2381      0.066      3.603      0.000       0.109       0.368\n",
       "Wife_religion_Scientology    -0.3799      0.174     -2.179      0.029      -0.722      -0.038\n",
       "Media_exposure_Not_good      -0.4759      0.245     -1.942      0.052      -0.956       0.004\n",
       "=============================================================================================\n",
       "\"\"\""
      ]
     },
     "execution_count": 120,
     "metadata": {},
     "output_type": "execute_result"
    }
   ],
   "source": [
    "Logistic_3 = sm.logit(formula=formula_3,data=data2_dummy).fit()\n",
    "Logistic_3.summary()"
   ]
  },
  {
   "cell_type": "markdown",
   "id": "8aadd10b",
   "metadata": {},
   "source": [
    "# Model 4\n",
    "# Model without the 'Husband_Occupation' variable"
   ]
  },
  {
   "cell_type": "code",
   "execution_count": 121,
   "id": "5e558427",
   "metadata": {},
   "outputs": [],
   "source": [
    "formula_4 = 'Contraceptive_method_used_Yes ~ Wife_age + Wife_education + No_of_children_born + Standard_of_living_index + Wife_religion_Scientology + Media_exposure_Not_good '"
   ]
  },
  {
   "cell_type": "code",
   "execution_count": 122,
   "id": "f773c959",
   "metadata": {},
   "outputs": [
    {
     "name": "stdout",
     "output_type": "stream",
     "text": [
      "Optimization terminated successfully.\n",
      "         Current function value: 0.612195\n",
      "         Iterations 5\n"
     ]
    },
    {
     "data": {
      "text/html": [
       "<table class=\"simpletable\">\n",
       "<caption>Logit Regression Results</caption>\n",
       "<tr>\n",
       "  <th>Dep. Variable:</th>   <td>Contraceptive_method_used_Yes</td> <th>  No. Observations:  </th>  <td>  1393</td>  \n",
       "</tr>\n",
       "<tr>\n",
       "  <th>Model:</th>                       <td>Logit</td>             <th>  Df Residuals:      </th>  <td>  1386</td>  \n",
       "</tr>\n",
       "<tr>\n",
       "  <th>Method:</th>                       <td>MLE</td>              <th>  Df Model:          </th>  <td>     6</td>  \n",
       "</tr>\n",
       "<tr>\n",
       "  <th>Date:</th>                  <td>Thu, 01 Dec 2022</td>        <th>  Pseudo R-squ.:     </th>  <td>0.1077</td>  \n",
       "</tr>\n",
       "<tr>\n",
       "  <th>Time:</th>                      <td>00:50:19</td>            <th>  Log-Likelihood:    </th> <td> -852.79</td> \n",
       "</tr>\n",
       "<tr>\n",
       "  <th>converged:</th>                   <td>True</td>              <th>  LL-Null:           </th> <td> -955.76</td> \n",
       "</tr>\n",
       "<tr>\n",
       "  <th>Covariance Type:</th>           <td>nonrobust</td>           <th>  LLR p-value:       </th> <td>1.030e-41</td>\n",
       "</tr>\n",
       "</table>\n",
       "<table class=\"simpletable\">\n",
       "<tr>\n",
       "              <td></td>                 <th>coef</th>     <th>std err</th>      <th>z</th>      <th>P>|z|</th>  <th>[0.025</th>    <th>0.975]</th>  \n",
       "</tr>\n",
       "<tr>\n",
       "  <th>Intercept</th>                 <td>    0.0733</td> <td>    0.397</td> <td>    0.185</td> <td> 0.853</td> <td>   -0.704</td> <td>    0.851</td>\n",
       "</tr>\n",
       "<tr>\n",
       "  <th>Wife_age</th>                  <td>   -0.0800</td> <td>    0.010</td> <td>   -8.399</td> <td> 0.000</td> <td>   -0.099</td> <td>   -0.061</td>\n",
       "</tr>\n",
       "<tr>\n",
       "  <th>Wife_education</th>            <td>    0.4808</td> <td>    0.067</td> <td>    7.158</td> <td> 0.000</td> <td>    0.349</td> <td>    0.612</td>\n",
       "</tr>\n",
       "<tr>\n",
       "  <th>No_of_children_born</th>       <td>    0.3198</td> <td>    0.034</td> <td>    9.520</td> <td> 0.000</td> <td>    0.254</td> <td>    0.386</td>\n",
       "</tr>\n",
       "<tr>\n",
       "  <th>Standard_of_living_index</th>  <td>    0.2248</td> <td>    0.065</td> <td>    3.439</td> <td> 0.001</td> <td>    0.097</td> <td>    0.353</td>\n",
       "</tr>\n",
       "<tr>\n",
       "  <th>Wife_religion_Scientology</th> <td>   -0.3940</td> <td>    0.174</td> <td>   -2.260</td> <td> 0.024</td> <td>   -0.736</td> <td>   -0.052</td>\n",
       "</tr>\n",
       "<tr>\n",
       "  <th>Media_exposure_Not_good</th>   <td>   -0.4832</td> <td>    0.245</td> <td>   -1.971</td> <td> 0.049</td> <td>   -0.964</td> <td>   -0.003</td>\n",
       "</tr>\n",
       "</table>"
      ],
      "text/plain": [
       "<class 'statsmodels.iolib.summary.Summary'>\n",
       "\"\"\"\n",
       "                                 Logit Regression Results                                \n",
       "=========================================================================================\n",
       "Dep. Variable:     Contraceptive_method_used_Yes   No. Observations:                 1393\n",
       "Model:                                     Logit   Df Residuals:                     1386\n",
       "Method:                                      MLE   Df Model:                            6\n",
       "Date:                           Thu, 01 Dec 2022   Pseudo R-squ.:                  0.1077\n",
       "Time:                                   00:50:19   Log-Likelihood:                -852.79\n",
       "converged:                                  True   LL-Null:                       -955.76\n",
       "Covariance Type:                       nonrobust   LLR p-value:                 1.030e-41\n",
       "=============================================================================================\n",
       "                                coef    std err          z      P>|z|      [0.025      0.975]\n",
       "---------------------------------------------------------------------------------------------\n",
       "Intercept                     0.0733      0.397      0.185      0.853      -0.704       0.851\n",
       "Wife_age                     -0.0800      0.010     -8.399      0.000      -0.099      -0.061\n",
       "Wife_education                0.4808      0.067      7.158      0.000       0.349       0.612\n",
       "No_of_children_born           0.3198      0.034      9.520      0.000       0.254       0.386\n",
       "Standard_of_living_index      0.2248      0.065      3.439      0.001       0.097       0.353\n",
       "Wife_religion_Scientology    -0.3940      0.174     -2.260      0.024      -0.736      -0.052\n",
       "Media_exposure_Not_good      -0.4832      0.245     -1.971      0.049      -0.964      -0.003\n",
       "=============================================================================================\n",
       "\"\"\""
      ]
     },
     "execution_count": 122,
     "metadata": {},
     "output_type": "execute_result"
    }
   ],
   "source": [
    "Logistic_4 = sm.logit(formula=formula_4,data=data2_dummy).fit()\n",
    "Logistic_4.summary()"
   ]
  },
  {
   "cell_type": "code",
   "execution_count": 123,
   "id": "9bcf7c45",
   "metadata": {},
   "outputs": [
    {
     "name": "stdout",
     "output_type": "stream",
     "text": [
      "The adjusted pseudo R-square value is 0.10146027977898875\n"
     ]
    }
   ],
   "source": [
    "print('The adjusted pseudo R-square value is',1 - ((Logistic_4.llf - Logistic_4.df_model)/Logistic_4.llnull))"
   ]
  },
  {
   "cell_type": "code",
   "execution_count": 124,
   "id": "360c4ea2",
   "metadata": {},
   "outputs": [
    {
     "data": {
      "text/plain": [
       "array([0.5879629 , 0.65903316, 0.58425517, ..., 0.46547131, 0.47298267,\n",
       "       0.72736105])"
      ]
     },
     "execution_count": 124,
     "metadata": {},
     "output_type": "execute_result"
    }
   ],
   "source": [
    "y_prob_pred_4 = Logistic_4.predict()\n",
    "y_prob_pred_4"
   ]
  },
  {
   "cell_type": "code",
   "execution_count": 125,
   "id": "1063b2c6",
   "metadata": {},
   "outputs": [
    {
     "data": {
      "text/plain": [
       "<AxesSubplot:xlabel='Contraceptive_method_used_Yes'>"
      ]
     },
     "execution_count": 125,
     "metadata": {},
     "output_type": "execute_result"
    },
    {
     "data": {
      "image/png": "[encoded data removed]",
      "text/plain": [
       "<Figure size 720x360 with 1 Axes>"
      ]
     },
     "metadata": {
      "needs_background": "light"
     },
     "output_type": "display_data"
    }
   ],
   "source": [
    "sns.boxplot(x=data2_dummy['Contraceptive_method_used_Yes'],y=y_prob_pred_4)"
   ]
  },
  {
   "cell_type": "code",
   "execution_count": 126,
   "id": "e6978e38",
   "metadata": {},
   "outputs": [
    {
     "data": {
      "text/plain": [
       "array([1, 1, 1, ..., 0, 0, 1])"
      ]
     },
     "execution_count": 126,
     "metadata": {},
     "output_type": "execute_result"
    }
   ],
   "source": [
    "y_class_pred=(y_prob_pred_4>=0.5).astype(int)\n",
    "y_class_pred"
   ]
  },
  {
   "cell_type": "code",
   "execution_count": 127,
   "id": "43447272",
   "metadata": {},
   "outputs": [],
   "source": [
    "from sklearn.model_selection import train_test_split"
   ]
  },
  {
   "cell_type": "markdown",
   "id": "89341cdf",
   "metadata": {},
   "source": [
    "# spliting the data in the ratio of 70:30 "
   ]
  },
  {
   "cell_type": "code",
   "execution_count": 128,
   "id": "60aac6f2",
   "metadata": {},
   "outputs": [],
   "source": [
    "Train,Test = train_test_split(data2_dummy,test_size=0.3,random_state=1,stratify=data2_dummy['Contraceptive_method_used_Yes'])"
   ]
  },
  {
   "cell_type": "code",
   "execution_count": 129,
   "id": "ba01a87a",
   "metadata": {},
   "outputs": [
    {
     "data": {
      "text/plain": [
       "(975, 10)"
      ]
     },
     "execution_count": 129,
     "metadata": {},
     "output_type": "execute_result"
    }
   ],
   "source": [
    "Train.shape"
   ]
  },
  {
   "cell_type": "code",
   "execution_count": 130,
   "id": "ef0bd9c9",
   "metadata": {
    "scrolled": true
   },
   "outputs": [
    {
     "data": {
      "text/plain": [
       "(418, 10)"
      ]
     },
     "execution_count": 130,
     "metadata": {},
     "output_type": "execute_result"
    }
   ],
   "source": [
    "Test.shape"
   ]
  },
  {
   "cell_type": "code",
   "execution_count": 131,
   "id": "fb19745a",
   "metadata": {},
   "outputs": [
    {
     "data": {
      "text/plain": [
       "1    0.558974\n",
       "0    0.441026\n",
       "Name: Contraceptive_method_used_Yes, dtype: float64"
      ]
     },
     "execution_count": 131,
     "metadata": {},
     "output_type": "execute_result"
    }
   ],
   "source": [
    "Train['Contraceptive_method_used_Yes'].value_counts(1)"
   ]
  },
  {
   "cell_type": "code",
   "execution_count": 132,
   "id": "133a7b6c",
   "metadata": {
    "scrolled": true
   },
   "outputs": [
    {
     "data": {
      "text/plain": [
       "1    0.559809\n",
       "0    0.440191\n",
       "Name: Contraceptive_method_used_Yes, dtype: float64"
      ]
     },
     "execution_count": 132,
     "metadata": {},
     "output_type": "execute_result"
    }
   ],
   "source": [
    "Test['Contraceptive_method_used_Yes'].value_counts(1)"
   ]
  },
  {
   "cell_type": "code",
   "execution_count": 133,
   "id": "968125f1",
   "metadata": {},
   "outputs": [],
   "source": [
    "from sklearn.linear_model import LogisticRegression\n",
    "lr = LogisticRegression(solver='newton-cg',penalty='none')\n",
    "from sklearn import metrics"
   ]
  },
  {
   "cell_type": "markdown",
   "id": "e0441bff",
   "metadata": {},
   "source": [
    "# Evaluating the model generated"
   ]
  },
  {
   "cell_type": "code",
   "execution_count": 134,
   "id": "1487b624",
   "metadata": {},
   "outputs": [],
   "source": [
    "model_sklearn_4 = lr.fit(Train[['Wife_age','Wife_education','No_of_children_born','Standard_of_living_index',\n",
    "                            'Wife_religion_Scientology','Media_exposure_Not_good']],Train['Contraceptive_method_used_Yes'])"
   ]
  },
  {
   "cell_type": "code",
   "execution_count": 135,
   "id": "79ff4c06",
   "metadata": {},
   "outputs": [],
   "source": [
    "model_sklearn_4_pred_train = model_sklearn_4.predict(Train[['Wife_age','Wife_education','No_of_children_born','Standard_of_living_index',\n",
    "                            'Wife_religion_Scientology','Media_exposure_Not_good']])"
   ]
  },
  {
   "cell_type": "code",
   "execution_count": 136,
   "id": "5e94bdea",
   "metadata": {},
   "outputs": [],
   "source": [
    "model_sklearn_4_pred_test = model_sklearn_4.predict(Test[['Wife_age','Wife_education','No_of_children_born','Standard_of_living_index',\n",
    "                            'Wife_religion_Scientology','Media_exposure_Not_good']])"
   ]
  },
  {
   "cell_type": "code",
   "execution_count": 137,
   "id": "87549f0c",
   "metadata": {},
   "outputs": [
    {
     "name": "stdout",
     "output_type": "stream",
     "text": [
      "Accuracy Score - Model 4\n",
      "Training: 0.6656410256410257\n",
      "Testing:  0.6578947368421053\n"
     ]
    }
   ],
   "source": [
    "print('Accuracy Score - Model 4')\n",
    "print('Training:', metrics.accuracy_score(Train['Contraceptive_method_used_Yes'],model_sklearn_4_pred_train))\n",
    "print('Testing: ', metrics.accuracy_score(Test['Contraceptive_method_used_Yes'],model_sklearn_4_pred_test))"
   ]
  },
  {
   "cell_type": "markdown",
   "id": "9503be34",
   "metadata": {},
   "source": [
    "there is a slight differece due to variation the value counts in trained accuracy and tested accuracy depending on datc set provided "
   ]
  },
  {
   "cell_type": "markdown",
   "id": "675bac64",
   "metadata": {},
   "source": [
    "# 2.3 Performance Metrics: Check the performance of Predictions on Train and Test sets using Accuracy, Confusion Matrix, Plot ROC curve and get ROC_AUC score for each model Final Model: Compare Both the models and write inference which model is best/optimized."
   ]
  },
  {
   "cell_type": "code",
   "execution_count": 138,
   "id": "a861d429",
   "metadata": {},
   "outputs": [],
   "source": [
    "from sklearn.metrics import ConfusionMatrixDisplay"
   ]
  },
  {
   "cell_type": "markdown",
   "id": "e17a2b1f",
   "metadata": {},
   "source": [
    "In order to measure how well our classification model is doing at making these predictions, we use classification metrics. It measures the performance of our machine learning model, giving us the confidence that these outputs can be further used in decision-making processes."
   ]
  },
  {
   "cell_type": "code",
   "execution_count": 139,
   "id": "97060bf6",
   "metadata": {},
   "outputs": [
    {
     "data": {
      "image/png": "[encoded data removed]",
      "text/plain": [
       "<Figure size 720x360 with 2 Axes>"
      ]
     },
     "metadata": {
      "needs_background": "light"
     },
     "output_type": "display_data"
    }
   ],
   "source": [
    "sns.heatmap((metrics.confusion_matrix(data2_dummy['Contraceptive_method_used_Yes'],y_class_pred)),annot=True,fmt='.5g'\n",
    "            ,cmap='Blues')\n",
    "plt.xlabel('Predicted')\n",
    "plt.ylabel('Actuals',rotation=0);"
   ]
  },
  {
   "cell_type": "code",
   "execution_count": 140,
   "id": "697f3c75",
   "metadata": {
    "scrolled": true
   },
   "outputs": [
    {
     "name": "stdout",
     "output_type": "stream",
     "text": [
      "True Negative: 308 \n",
      "False Positives: 306 \n",
      "False Negatives: 161 \n",
      "True Positives: 618\n"
     ]
    }
   ],
   "source": [
    "tn, fp, fn, tp = metrics.confusion_matrix(data2_dummy['Contraceptive_method_used_Yes'],y_class_pred).ravel()\n",
    "print('True Negative:',tn,'\\n''False Positives:' ,fp,'\\n''False Negatives:', fn,'\\n''True Positives:', tp)"
   ]
  },
  {
   "cell_type": "markdown",
   "id": "3c949111",
   "metadata": {},
   "source": [
    "# Accuracy check for the logistic regression model"
   ]
  },
  {
   "cell_type": "markdown",
   "id": "69260208",
   "metadata": {},
   "source": [
    "We will start off with accuracy because it’s the one that’s typically used the most, especially for beginners. \n",
    "\n",
    "Accuracy is defined as the number of correct predictions over the total predictions:"
   ]
  },
  {
   "cell_type": "code",
   "execution_count": 141,
   "id": "e9214427",
   "metadata": {
    "scrolled": true
   },
   "outputs": [
    {
     "name": "stdout",
     "output_type": "stream",
     "text": [
      "              precision    recall  f1-score   support\n",
      "\n",
      "           0      0.657     0.502     0.569       614\n",
      "           1      0.669     0.793     0.726       779\n",
      "\n",
      "    accuracy                          0.665      1393\n",
      "   macro avg      0.663     0.647     0.647      1393\n",
      "weighted avg      0.663     0.665     0.657      1393\n",
      "\n"
     ]
    }
   ],
   "source": [
    "print(metrics.classification_report(data2_dummy['Contraceptive_method_used_Yes'],y_class_pred,digits=3))"
   ]
  },
  {
   "cell_type": "code",
   "execution_count": 142,
   "id": "4e2ddff0",
   "metadata": {},
   "outputs": [
    {
     "data": {
      "text/plain": [
       "0.6647523330940417"
      ]
     },
     "execution_count": 142,
     "metadata": {},
     "output_type": "execute_result"
    }
   ],
   "source": [
    "metrics.accuracy_score(data2_dummy['Contraceptive_method_used_Yes'],y_class_pred)"
   ]
  },
  {
   "cell_type": "markdown",
   "id": "40fde759",
   "metadata": {},
   "source": [
    "However, using the accuracy metric to measure the performance of your model is usually not enough. This is where we need other metrics."
   ]
  },
  {
   "cell_type": "markdown",
   "id": "93c37eba",
   "metadata": {},
   "source": [
    "# AUC and ROC for the training data"
   ]
  },
  {
   "cell_type": "code",
   "execution_count": 143,
   "id": "7377a82e",
   "metadata": {
    "scrolled": false
   },
   "outputs": [
    {
     "name": "stdout",
     "output_type": "stream",
     "text": [
      "AUC: 0.703\n"
     ]
    },
    {
     "data": {
      "image/png": "[encoded data removed]",
      "text/plain": [
       "<Figure size 720x360 with 1 Axes>"
      ]
     },
     "metadata": {
      "needs_background": "light"
     },
     "output_type": "display_data"
    }
   ],
   "source": [
    "# calculating on the basis of a person not defaulting\n",
    "# calculate AUC\n",
    "auc = metrics.roc_auc_score(data2_dummy['Contraceptive_method_used_Yes'],y_prob_pred_4)\n",
    "print('AUC: %.3f' % auc)\n",
    "# # calculate roc curve\n",
    "# from sklearn.metrics import roc_curve\n",
    "fpr, tpr, thresholds = metrics.roc_curve(data2_dummy['Contraceptive_method_used_Yes'],y_prob_pred_4)\n",
    "plt.plot([0, 1], [0, 1], linestyle='--')\n",
    "# plot the roc curve for the model\n",
    "plt.plot(fpr, tpr, marker='.')\n",
    "# show the plot\n",
    "plt.xlabel(\"False Positive Rate\")\n",
    "plt.ylabel(\"True Positive Rate\")\n",
    "plt.show()"
   ]
  },
  {
   "cell_type": "markdown",
   "id": "1166479a",
   "metadata": {},
   "source": [
    "The more area under the curve you have, the better - the higher the ROC AUC score. This is when the FN and FP are both at zero - or if we refer to the graph above, it’s when the true positive rate is 1 and the false positive rate is 0."
   ]
  },
  {
   "cell_type": "markdown",
   "id": "891b3982",
   "metadata": {},
   "source": [
    "# SKlearn"
   ]
  },
  {
   "cell_type": "code",
   "execution_count": 144,
   "id": "adb77f7e",
   "metadata": {},
   "outputs": [
    {
     "data": {
      "image/png": "[encoded data removed]",
      "text/plain": [
       "<Figure size 720x360 with 2 Axes>"
      ]
     },
     "metadata": {
      "needs_background": "light"
     },
     "output_type": "display_data"
    }
   ],
   "source": [
    "sns.heatmap((metrics.confusion_matrix(Train['Contraceptive_method_used_Yes'],model_sklearn_4_pred_train)),annot=True,fmt='.5g'\n",
    "            ,cmap='Blues');\n",
    "plt.xlabel('Predicted');\n",
    "plt.ylabel('Actuals',rotation=0);"
   ]
  },
  {
   "cell_type": "code",
   "execution_count": 145,
   "id": "e150a3a9",
   "metadata": {},
   "outputs": [
    {
     "name": "stdout",
     "output_type": "stream",
     "text": [
      "Accuracy Score - Model 4\n",
      "Training: 0.6656410256410257\n",
      "Testing:  0.6578947368421053\n"
     ]
    }
   ],
   "source": [
    "print('Accuracy Score - Model 4')\n",
    "print('Training:', metrics.accuracy_score(Train['Contraceptive_method_used_Yes'],model_sklearn_4_pred_train))\n",
    "print('Testing: ', metrics.accuracy_score(Test['Contraceptive_method_used_Yes'],model_sklearn_4_pred_test))"
   ]
  },
  {
   "cell_type": "markdown",
   "id": "2e3b8f26",
   "metadata": {},
   "source": [
    "# 2.4 Inference: Basis on these predictions, what are the insights and recommendations."
   ]
  },
  {
   "cell_type": "markdown",
   "id": "0e3a8a28",
   "metadata": {},
   "source": [
    "Both the wife age and number of children born have null values, which are imputed by median value\n",
    "\n",
    ". As there is a possibility that same-age ladies have the same kind of other records, didn’t drop 85 duplicate values\n",
    "\n",
    ". EDA with univariate, bivariate analysis are performed, along with analysis of the mean median, standard deviation, and outliers\n",
    "\n",
    ". Later which data having string value is encoded for modelling\n",
    "\n",
    ". started checking VIF value but as there are no variables that has more than 5 VIF, continued searching and printed the adjusted pseudo R-square value with value of 0.099\n",
    "\n",
    ". Later on went by searching the logistics 2 with adjusted pseudo R-square value with value of 0.100 and than searched logistics 3 with function value of 0.611, adjusted pseudo R-square value with value of 0.101\n"
   ]
  }
 ],
 "metadata": {
  "kernelspec": {
   "display_name": "Python 3",
   "language": "python",
   "name": "python3"
  },
  "language_info": {
   "codemirror_mode": {
    "name": "ipython",
    "version": 3
   },
   "file_extension": ".py",
   "mimetype": "text/x-python",
   "name": "python",
   "nbconvert_exporter": "python",
   "pygments_lexer": "ipython3",
   "version": "3.8.8"
  }
 },
 "nbformat": 4,
 "nbformat_minor": 5
}
